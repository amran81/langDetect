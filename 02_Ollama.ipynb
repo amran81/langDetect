{
 "cells": [
  {
   "cell_type": "code",
   "execution_count": 1,
   "id": "b8ca5076",
   "metadata": {},
   "outputs": [],
   "source": [
    "import os\n",
    "import pandas as pd\n",
    "import ollama\n",
    "from tqdm import tqdm"
   ]
  },
  {
   "cell_type": "code",
   "execution_count": 1,
   "id": "85a881ce",
   "metadata": {},
   "outputs": [],
   "source": [
    "# Load Excel file\n",
    "file_name = \"SubjectAppsDataset_exp03.xlsx\"\n",
    "file_path = file_name\n",
    "df = pd.read_excel(file_path, sheet_name=\"baseline\")\n",
    "\n",
    "# Count the number of records in the filtered DataFrame\n",
    "record_count = len(df)\n",
    "\n",
    "# Alternatively, you can use:\n",
    "record_count = df.shape[0]\n",
    "\n",
    "print(f\"Number of records in the DataFrame: {record_count}\")\n",
    "\n",
    "BATCH_SIZE = 16\n",
    "\n",
    "# Function to classify a batch of reviews\n",
    "def classify_language_batch(texts):\n",
    "    reviews_formatted = \"\\n\\n\".join([f\"{i+1}. {text.strip()}\" for i, text in enumerate(texts)])\n",
    "    prompt = f\"\"\"\n",
    "You are a language classification assistant. Classify the following user reviews into one of three categories:\n",
    "\n",
    "- malay: if the review is entirely in the Malay language.\n",
    "- english: if the review is entirely in English.\n",
    "- mix: if the review contains both Malay and English.\n",
    "\n",
    "Respond with only a list of the classifications in order, one per line.\n",
    "\n",
    "Reviews:\n",
    "{reviews_formatted}\n",
    "\"\"\"\n",
    "    response = ollama.chat(model='llama3.1', messages=[{'role': 'user', 'content': prompt}])\n",
    "    raw_result = response['message']['content'].strip().lower()\n",
    "    return [line.strip() for line in raw_result.splitlines() if line.strip()]\n",
    "\n",
    "# Apply in batches\n",
    "results = []\n",
    "texts = df['Normalization'].tolist()\n",
    "\n",
    "for i in tqdm(range(0, len(texts), BATCH_SIZE), desc=\"Classifying Reviews\"):\n",
    "    batch = texts[i:i + BATCH_SIZE]\n",
    "    batch_results = classify_language_batch(batch)\n",
    "    results.extend(batch_results)\n",
    "\n",
    "# Assign to DataFrame\n",
    "df['llama'] = results\n",
    "\n",
    "# --- Save to Excel ---\n",
    "def save_to_excel(df, path, sheet_name):\n",
    "    with pd.ExcelWriter(path, engine='openpyxl', mode='a', if_sheet_exists='replace') as writer:\n",
    "        df.to_excel(writer, sheet_name=sheet_name, index=False)\n",
    "\n",
    "sheet_name = \"baseline\"\n",
    "save_to_excel(df, file_path, sheet_name)\n",
    "# --- Final Status ---\n",
    "print(f\"\\n✅ File saved to '{file_path}' in sheet '{sheet_name}'.\")"
   ]
  },
  {
   "cell_type": "code",
   "execution_count": null,
   "id": "84e94a48",
   "metadata": {},
   "outputs": [],
   "source": []
  }
 ],
 "metadata": {
  "kernelspec": {
   "display_name": "Python 3 (ipykernel)",
   "language": "python",
   "name": "python3"
  },
  "language_info": {
   "codemirror_mode": {
    "name": "ipython",
    "version": 3
   },
   "file_extension": ".py",
   "mimetype": "text/x-python",
   "name": "python",
   "nbconvert_exporter": "python",
   "pygments_lexer": "ipython3",
   "version": "3.11.0"
  }
 },
 "nbformat": 4,
 "nbformat_minor": 5
}
